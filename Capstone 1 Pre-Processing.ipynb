{
 "cells": [
  {
   "cell_type": "code",
   "execution_count": 54,
   "id": "9eb2f85b",
   "metadata": {},
   "outputs": [],
   "source": [
    "# Import Modules"
   ]
  },
  {
   "cell_type": "code",
   "execution_count": 55,
   "id": "c0ac6cf7",
   "metadata": {},
   "outputs": [],
   "source": [
    "import pandas as pd\n",
    "import numpy as np\n",
    "import os\n",
    "import pickle\n",
    "import matplotlib.pyplot as plt\n",
    "import seaborn as sns\n",
    "from sklearn import __version__ as sklearn_version\n",
    "from sklearn.decomposition import PCA\n",
    "from sklearn.preprocessing import scale\n",
    "from sklearn.model_selection import train_test_split, cross_validate, GridSearchCV, learning_curve\n",
    "from sklearn.preprocessing import StandardScaler, MinMaxScaler\n",
    "from sklearn.dummy import DummyRegressor\n",
    "from sklearn.linear_model import LinearRegression\n",
    "from sklearn.ensemble import RandomForestRegressor\n",
    "from sklearn.metrics import r2_score, mean_squared_error, mean_absolute_error\n",
    "from sklearn.pipeline import make_pipeline\n",
    "from sklearn.impute import SimpleImputer\n",
    "from sklearn.feature_selection import SelectKBest, f_regression\n",
    "import datetime\n"
   ]
  },
  {
   "cell_type": "code",
   "execution_count": 56,
   "id": "c791fe07",
   "metadata": {},
   "outputs": [
    {
     "data": {
      "text/html": [
       "<div>\n",
       "<style scoped>\n",
       "    .dataframe tbody tr th:only-of-type {\n",
       "        vertical-align: middle;\n",
       "    }\n",
       "\n",
       "    .dataframe tbody tr th {\n",
       "        vertical-align: top;\n",
       "    }\n",
       "\n",
       "    .dataframe thead th {\n",
       "        text-align: right;\n",
       "    }\n",
       "</style>\n",
       "<table border=\"1\" class=\"dataframe\">\n",
       "  <thead>\n",
       "    <tr style=\"text-align: right;\">\n",
       "      <th></th>\n",
       "      <th>0</th>\n",
       "      <th>1</th>\n",
       "      <th>2</th>\n",
       "      <th>3</th>\n",
       "      <th>4</th>\n",
       "    </tr>\n",
       "  </thead>\n",
       "  <tbody>\n",
       "    <tr>\n",
       "      <th>Age</th>\n",
       "      <td>23</td>\n",
       "      <td>47</td>\n",
       "      <td>47</td>\n",
       "      <td>28</td>\n",
       "      <td>61</td>\n",
       "    </tr>\n",
       "    <tr>\n",
       "      <th>Sex</th>\n",
       "      <td>F</td>\n",
       "      <td>M</td>\n",
       "      <td>M</td>\n",
       "      <td>F</td>\n",
       "      <td>F</td>\n",
       "    </tr>\n",
       "    <tr>\n",
       "      <th>BP</th>\n",
       "      <td>HIGH</td>\n",
       "      <td>LOW</td>\n",
       "      <td>LOW</td>\n",
       "      <td>NORMAL</td>\n",
       "      <td>LOW</td>\n",
       "    </tr>\n",
       "    <tr>\n",
       "      <th>Cholesterol</th>\n",
       "      <td>HIGH</td>\n",
       "      <td>HIGH</td>\n",
       "      <td>HIGH</td>\n",
       "      <td>HIGH</td>\n",
       "      <td>HIGH</td>\n",
       "    </tr>\n",
       "    <tr>\n",
       "      <th>Na_to_K</th>\n",
       "      <td>25.355</td>\n",
       "      <td>13.093</td>\n",
       "      <td>10.114</td>\n",
       "      <td>7.798</td>\n",
       "      <td>18.043</td>\n",
       "    </tr>\n",
       "    <tr>\n",
       "      <th>Drug</th>\n",
       "      <td>drugY</td>\n",
       "      <td>drugC</td>\n",
       "      <td>drugC</td>\n",
       "      <td>drugX</td>\n",
       "      <td>drugY</td>\n",
       "    </tr>\n",
       "  </tbody>\n",
       "</table>\n",
       "</div>"
      ],
      "text/plain": [
       "                  0       1       2       3       4\n",
       "Age              23      47      47      28      61\n",
       "Sex               F       M       M       F       F\n",
       "BP             HIGH     LOW     LOW  NORMAL     LOW\n",
       "Cholesterol    HIGH    HIGH    HIGH    HIGH    HIGH\n",
       "Na_to_K      25.355  13.093  10.114   7.798  18.043\n",
       "Drug          drugY   drugC   drugC   drugX   drugY"
      ]
     },
     "execution_count": 56,
     "metadata": {},
     "output_type": "execute_result"
    }
   ],
   "source": [
    "data_2 = pd.read_csv('c1data.csv')\n",
    "data_2.head().T"
   ]
  },
  {
   "cell_type": "code",
   "execution_count": 57,
   "id": "70e7e774",
   "metadata": {},
   "outputs": [
    {
     "name": "stdout",
     "output_type": "stream",
     "text": [
      "<class 'pandas.core.frame.DataFrame'>\n",
      "RangeIndex: 200 entries, 0 to 199\n",
      "Data columns (total 6 columns):\n",
      " #   Column       Non-Null Count  Dtype  \n",
      "---  ------       --------------  -----  \n",
      " 0   Age          200 non-null    int64  \n",
      " 1   Sex          200 non-null    object \n",
      " 2   BP           200 non-null    object \n",
      " 3   Cholesterol  200 non-null    object \n",
      " 4   Na_to_K      200 non-null    float64\n",
      " 5   Drug         200 non-null    object \n",
      "dtypes: float64(1), int64(1), object(4)\n",
      "memory usage: 9.5+ KB\n"
     ]
    }
   ],
   "source": [
    "data_2.info()"
   ]
  },
  {
   "cell_type": "code",
   "execution_count": 58,
   "id": "44db2ce4",
   "metadata": {},
   "outputs": [],
   "source": [
    "drop = ['Age']\n",
    "data_3 = data_2.drop(drop, axis=1)"
   ]
  },
  {
   "cell_type": "code",
   "execution_count": 59,
   "id": "962cea68",
   "metadata": {},
   "outputs": [
    {
     "data": {
      "text/html": [
       "<div>\n",
       "<style scoped>\n",
       "    .dataframe tbody tr th:only-of-type {\n",
       "        vertical-align: middle;\n",
       "    }\n",
       "\n",
       "    .dataframe tbody tr th {\n",
       "        vertical-align: top;\n",
       "    }\n",
       "\n",
       "    .dataframe thead th {\n",
       "        text-align: right;\n",
       "    }\n",
       "</style>\n",
       "<table border=\"1\" class=\"dataframe\">\n",
       "  <thead>\n",
       "    <tr style=\"text-align: right;\">\n",
       "      <th></th>\n",
       "      <th>Sex</th>\n",
       "      <th>BP</th>\n",
       "      <th>Cholesterol</th>\n",
       "      <th>Na_to_K</th>\n",
       "      <th>Drug</th>\n",
       "    </tr>\n",
       "  </thead>\n",
       "  <tbody>\n",
       "    <tr>\n",
       "      <th>0</th>\n",
       "      <td>F</td>\n",
       "      <td>HIGH</td>\n",
       "      <td>HIGH</td>\n",
       "      <td>25.355</td>\n",
       "      <td>drugY</td>\n",
       "    </tr>\n",
       "    <tr>\n",
       "      <th>1</th>\n",
       "      <td>M</td>\n",
       "      <td>LOW</td>\n",
       "      <td>HIGH</td>\n",
       "      <td>13.093</td>\n",
       "      <td>drugC</td>\n",
       "    </tr>\n",
       "    <tr>\n",
       "      <th>2</th>\n",
       "      <td>M</td>\n",
       "      <td>LOW</td>\n",
       "      <td>HIGH</td>\n",
       "      <td>10.114</td>\n",
       "      <td>drugC</td>\n",
       "    </tr>\n",
       "    <tr>\n",
       "      <th>3</th>\n",
       "      <td>F</td>\n",
       "      <td>NORMAL</td>\n",
       "      <td>HIGH</td>\n",
       "      <td>7.798</td>\n",
       "      <td>drugX</td>\n",
       "    </tr>\n",
       "    <tr>\n",
       "      <th>4</th>\n",
       "      <td>F</td>\n",
       "      <td>LOW</td>\n",
       "      <td>HIGH</td>\n",
       "      <td>18.043</td>\n",
       "      <td>drugY</td>\n",
       "    </tr>\n",
       "  </tbody>\n",
       "</table>\n",
       "</div>"
      ],
      "text/plain": [
       "  Sex      BP Cholesterol  Na_to_K   Drug\n",
       "0   F    HIGH        HIGH   25.355  drugY\n",
       "1   M     LOW        HIGH   13.093  drugC\n",
       "2   M     LOW        HIGH   10.114  drugC\n",
       "3   F  NORMAL        HIGH    7.798  drugX\n",
       "4   F     LOW        HIGH   18.043  drugY"
      ]
     },
     "execution_count": 59,
     "metadata": {},
     "output_type": "execute_result"
    }
   ],
   "source": [
    "data_3.head()"
   ]
  },
  {
   "cell_type": "code",
   "execution_count": 60,
   "id": "8c5594d0",
   "metadata": {},
   "outputs": [],
   "source": [
    "# One Hot Encode Catergorical Features"
   ]
  },
  {
   "cell_type": "code",
   "execution_count": 61,
   "id": "ecf86f6d",
   "metadata": {},
   "outputs": [
    {
     "name": "stdout",
     "output_type": "stream",
     "text": [
      "     Na_to_K  Sex_F  Sex_M  BP_HIGH  BP_LOW  BP_NORMAL  Cholesterol_HIGH  \\\n",
      "0     25.355      1      0        1       0          0                 1   \n",
      "1     13.093      0      1        0       1          0                 1   \n",
      "2     10.114      0      1        0       1          0                 1   \n",
      "3      7.798      1      0        0       0          1                 1   \n",
      "4     18.043      1      0        0       1          0                 1   \n",
      "..       ...    ...    ...      ...     ...        ...               ...   \n",
      "195   11.567      1      0        0       1          0                 1   \n",
      "196   12.006      0      1        0       1          0                 1   \n",
      "197    9.894      0      1        0       0          1                 1   \n",
      "198   14.020      0      1        0       0          1                 0   \n",
      "199   11.349      1      0        0       1          0                 0   \n",
      "\n",
      "     Cholesterol_NORMAL  Drug_drugA  Drug_drugB  Drug_drugC  Drug_drugX  \\\n",
      "0                     0           0           0           0           0   \n",
      "1                     0           0           0           1           0   \n",
      "2                     0           0           0           1           0   \n",
      "3                     0           0           0           0           1   \n",
      "4                     0           0           0           0           0   \n",
      "..                  ...         ...         ...         ...         ...   \n",
      "195                   0           0           0           1           0   \n",
      "196                   0           0           0           1           0   \n",
      "197                   0           0           0           0           1   \n",
      "198                   1           0           0           0           1   \n",
      "199                   1           0           0           0           1   \n",
      "\n",
      "     Drug_drugY  \n",
      "0             1  \n",
      "1             0  \n",
      "2             0  \n",
      "3             0  \n",
      "4             1  \n",
      "..          ...  \n",
      "195           0  \n",
      "196           0  \n",
      "197           0  \n",
      "198           0  \n",
      "199           0  \n",
      "\n",
      "[200 rows x 13 columns]\n"
     ]
    }
   ],
   "source": [
    "data_4 = pd.get_dummies(data_3, columns=['Sex', 'BP', 'Cholesterol', 'Drug'])\n",
    "print(data_4)"
   ]
  },
  {
   "cell_type": "code",
   "execution_count": 63,
   "id": "c147233e",
   "metadata": {},
   "outputs": [],
   "source": [
    "# Split Data into training and testing"
   ]
  },
  {
   "cell_type": "code",
   "execution_count": 64,
   "id": "40ff373b",
   "metadata": {},
   "outputs": [
    {
     "data": {
      "text/plain": [
       "(140.0, 60.0)"
      ]
     },
     "execution_count": 64,
     "metadata": {},
     "output_type": "execute_result"
    }
   ],
   "source": [
    "len(data_4) * .7, len(data_4) * .3"
   ]
  },
  {
   "cell_type": "code",
   "execution_count": 65,
   "id": "82649433",
   "metadata": {},
   "outputs": [],
   "source": [
    "X_train, X_test, y_train, y_test = train_test_split(data_4.drop(columns='Na_to_K'), \n",
    "                                                    data_4.Na_to_K, test_size=0.3, \n",
    "                                                    random_state=47)"
   ]
  },
  {
   "cell_type": "code",
   "execution_count": 66,
   "id": "d12f0503",
   "metadata": {},
   "outputs": [
    {
     "data": {
      "text/plain": [
       "((140, 12), (60, 12))"
      ]
     },
     "execution_count": 66,
     "metadata": {},
     "output_type": "execute_result"
    }
   ],
   "source": [
    "X_train.shape, X_test.shape"
   ]
  },
  {
   "cell_type": "code",
   "execution_count": 67,
   "id": "95ef5e85",
   "metadata": {},
   "outputs": [
    {
     "data": {
      "text/plain": [
       "((140,), (60,))"
      ]
     },
     "execution_count": 67,
     "metadata": {},
     "output_type": "execute_result"
    }
   ],
   "source": [
    "y_train.shape, y_test.shape"
   ]
  },
  {
   "cell_type": "code",
   "execution_count": 68,
   "id": "9caa8422",
   "metadata": {},
   "outputs": [
    {
     "data": {
      "text/plain": [
       "((140, 12), (60, 12))"
      ]
     },
     "execution_count": 68,
     "metadata": {},
     "output_type": "execute_result"
    }
   ],
   "source": [
    "List = []\n",
    "Train = X_train[List]\n",
    "Test = X_test[List]\n",
    "X_train.drop(columns=List, inplace=True)\n",
    "X_test.drop(columns=List, inplace=True)\n",
    "X_train.shape, X_test.shape"
   ]
  },
  {
   "cell_type": "code",
   "execution_count": 69,
   "id": "fb0e56b1",
   "metadata": {},
   "outputs": [
    {
     "data": {
      "text/plain": [
       "Sex_F                 uint8\n",
       "Sex_M                 uint8\n",
       "BP_HIGH               uint8\n",
       "BP_LOW                uint8\n",
       "BP_NORMAL             uint8\n",
       "Cholesterol_HIGH      uint8\n",
       "Cholesterol_NORMAL    uint8\n",
       "Drug_drugA            uint8\n",
       "Drug_drugB            uint8\n",
       "Drug_drugC            uint8\n",
       "Drug_drugX            uint8\n",
       "Drug_drugY            uint8\n",
       "dtype: object"
      ]
     },
     "execution_count": 69,
     "metadata": {},
     "output_type": "execute_result"
    }
   ],
   "source": [
    "X_train.dtypes"
   ]
  },
  {
   "cell_type": "code",
   "execution_count": 70,
   "id": "9781e988",
   "metadata": {},
   "outputs": [
    {
     "data": {
      "text/plain": [
       "Sex_F                 uint8\n",
       "Sex_M                 uint8\n",
       "BP_HIGH               uint8\n",
       "BP_LOW                uint8\n",
       "BP_NORMAL             uint8\n",
       "Cholesterol_HIGH      uint8\n",
       "Cholesterol_NORMAL    uint8\n",
       "Drug_drugA            uint8\n",
       "Drug_drugB            uint8\n",
       "Drug_drugC            uint8\n",
       "Drug_drugX            uint8\n",
       "Drug_drugY            uint8\n",
       "dtype: object"
      ]
     },
     "execution_count": 70,
     "metadata": {},
     "output_type": "execute_result"
    }
   ],
   "source": [
    "X_test.dtypes"
   ]
  },
  {
   "cell_type": "code",
   "execution_count": 71,
   "id": "4bc6ac4a",
   "metadata": {},
   "outputs": [
    {
     "data": {
      "text/plain": [
       "16.05714285714285"
      ]
     },
     "execution_count": 71,
     "metadata": {},
     "output_type": "execute_result"
    }
   ],
   "source": [
    "t_mean = y_train.mean()\n",
    "t_mean"
   ]
  },
  {
   "cell_type": "code",
   "execution_count": 72,
   "id": "d3e52f12",
   "metadata": {},
   "outputs": [
    {
     "data": {
      "text/plain": [
       "array([[16.05714286]])"
      ]
     },
     "execution_count": 72,
     "metadata": {},
     "output_type": "execute_result"
    }
   ],
   "source": [
    "dreg = DummyRegressor(strategy='mean')\n",
    "dreg.fit(X_train, y_train)\n",
    "dreg.constant_"
   ]
  },
  {
   "cell_type": "code",
   "execution_count": 73,
   "id": "47b3cd9a",
   "metadata": {},
   "outputs": [],
   "source": [
    "#Standard Scaler to transform numerical features"
   ]
  },
  {
   "cell_type": "code",
   "execution_count": 74,
   "id": "8ba47983",
   "metadata": {},
   "outputs": [
    {
     "name": "stdout",
     "output_type": "stream",
     "text": [
      "Na_to_K [16.084485  0.48      0.52      0.385     0.32      0.295     0.515\n",
      "  0.485     0.115     0.08      0.08      0.27      0.455   ]\n"
     ]
    }
   ],
   "source": [
    "data_ = data_4\n",
    "scaler = StandardScaler()\n",
    "scaler.fit(data_)\n",
    "print(\"Na_to_K\", scaler.mean_)"
   ]
  },
  {
   "cell_type": "code",
   "execution_count": 75,
   "id": "536f8be0",
   "metadata": {},
   "outputs": [
    {
     "name": "stdout",
     "output_type": "stream",
     "text": [
      "Transformed data:\n",
      " [[ 1.28652212  1.040833   -1.040833   ... -0.29488391 -0.60816364\n",
      "   1.0944415 ]\n",
      " [-0.4151454  -0.96076892  0.96076892 ...  3.39116499 -0.60816364\n",
      "  -0.91370804]\n",
      " [-0.82855818 -0.96076892  0.96076892 ...  3.39116499 -0.60816364\n",
      "  -0.91370804]\n",
      " ...\n",
      " [-0.85908883 -0.96076892  0.96076892 ... -0.29488391  1.64429429\n",
      "  -0.91370804]\n",
      " [-0.28650033 -0.96076892  0.96076892 ... -0.29488391  1.64429429\n",
      "  -0.91370804]\n",
      " [-0.6571702   1.040833   -1.040833   ... -0.29488391  1.64429429\n",
      "  -0.91370804]]\n"
     ]
    }
   ],
   "source": [
    "tdata = scaler.transform(data_)\n",
    "print(\"Transformed data:\\n\", tdata)"
   ]
  },
  {
   "cell_type": "code",
   "execution_count": null,
   "id": "f0faa675",
   "metadata": {},
   "outputs": [],
   "source": []
  },
  {
   "cell_type": "code",
   "execution_count": null,
   "id": "40e8c8e2",
   "metadata": {},
   "outputs": [],
   "source": []
  }
 ],
 "metadata": {
  "kernelspec": {
   "display_name": "Python 3 (ipykernel)",
   "language": "python",
   "name": "python3"
  },
  "language_info": {
   "codemirror_mode": {
    "name": "ipython",
    "version": 3
   },
   "file_extension": ".py",
   "mimetype": "text/x-python",
   "name": "python",
   "nbconvert_exporter": "python",
   "pygments_lexer": "ipython3",
   "version": "3.9.18"
  }
 },
 "nbformat": 4,
 "nbformat_minor": 5
}
